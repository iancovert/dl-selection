{
 "cells": [
  {
   "cell_type": "code",
   "execution_count": 1,
   "metadata": {},
   "outputs": [],
   "source": [
    "import torch\n",
    "import torch.nn as nn\n",
    "import numpy as np\n",
    "import matplotlib.pyplot as plt\n",
    "import torchvision.datasets as dsets\n",
    "from selection import models, data"
   ]
  },
  {
   "cell_type": "code",
   "execution_count": 2,
   "metadata": {},
   "outputs": [],
   "source": [
    "# Load train set\n",
    "train = dsets.MNIST('./', train=True, download=True)\n",
    "imgs = train.data.reshape(-1, 784) / 255.0\n",
    "labels = train.targets\n",
    "\n",
    "# Shuffle and split into train and val\n",
    "inds = torch.randperm(len(train))\n",
    "imgs = imgs[inds]\n",
    "labels = labels[inds]\n",
    "val_x, val_y = imgs[:6000], labels[:6000]\n",
    "train_x, train_y = imgs[6000:], labels[6000:]\n",
    "\n",
    "# Load test set\n",
    "test = dsets.MNIST('./', train=False, download=True)\n",
    "test_x = test.data.reshape(-1, 784) / 255.0\n",
    "test_y = test.targets\n",
    "\n",
    "# Create TabularDatasets (for specifying feature indices)\n",
    "train_set = data.TabularDataset(train_x, train_y)\n",
    "val_set = data.TabularDataset(val_x, val_y)\n",
    "test_set = data.TabularDataset(test_x, test_y)\n",
    "input_size = train_set.input_size\n",
    "output_size = train_set.output_size"
   ]
  },
  {
   "cell_type": "markdown",
   "metadata": {},
   "source": [
    "# Concrete mask"
   ]
  },
  {
   "cell_type": "code",
   "execution_count": 3,
   "metadata": {
    "scrolled": true
   },
   "outputs": [
    {
     "name": "stdout",
     "output_type": "stream",
     "text": [
      "--------Epoch = 30--------\n",
      "Train loss = 0.1628\n",
      "Val loss = 0.1940\n",
      "Max = 0.01, Mean = 0.01, Min = 0.01\n",
      "--------Epoch = 60--------\n",
      "Train loss = 0.1127\n",
      "Val loss = 0.1629\n",
      "Max = 0.04, Mean = 0.03, Min = 0.02\n",
      "--------Epoch = 90--------\n",
      "Train loss = 0.1780\n",
      "Val loss = 0.2209\n",
      "Max = 0.14, Mean = 0.10, Min = 0.08\n",
      "--------Epoch = 120--------\n",
      "Train loss = 0.2774\n",
      "Val loss = 0.3060\n",
      "Max = 0.38, Mean = 0.25, Min = 0.19\n",
      "--------Epoch = 150--------\n",
      "Train loss = 0.3300\n",
      "Val loss = 0.3789\n",
      "Max = 0.87, Mean = 0.50, Min = 0.31\n",
      "--------Epoch = 180--------\n",
      "Train loss = 0.2480\n",
      "Val loss = 0.3169\n",
      "Max = 1.00, Mean = 0.86, Min = 0.54\n",
      "--------Epoch = 210--------\n",
      "Train loss = 0.1065\n",
      "Val loss = 0.3424\n",
      "Max = 1.00, Mean = 0.99, Min = 0.95\n",
      "--------Epoch = 240--------\n",
      "Train loss = 0.0418\n",
      "Val loss = 0.4971\n",
      "Max = 1.00, Mean = 1.00, Min = 0.99\n",
      "Stopping early\n"
     ]
    }
   ],
   "source": [
    "# Create model\n",
    "model = models.SelectorMLP(\n",
    "    input_layer='concrete_mask',\n",
    "    k=20,\n",
    "    input_size=input_size,\n",
    "    output_size=output_size,\n",
    "    hidden=[512, 512],\n",
    "    activation='elu').cuda()\n",
    "\n",
    "# Train model\n",
    "model.learn(\n",
    "    train_set,\n",
    "    val_set,\n",
    "    lr=1e-3,\n",
    "    mbsize=256,\n",
    "    max_nepochs=300,\n",
    "    start_temperature=10.0,\n",
    "    end_temperature=0.01,\n",
    "    loss_fn=nn.CrossEntropyLoss(),\n",
    "    check_every=30)"
   ]
  },
  {
   "cell_type": "code",
   "execution_count": 4,
   "metadata": {},
   "outputs": [
    {
     "data": {
      "image/png": "[encoded data removed]",
      "text/plain": [
       "<Figure size 1152x432 with 2 Axes>"
      ]
     },
     "metadata": {
      "needs_background": "light"
     },
     "output_type": "display_data"
    }
   ],
   "source": [
    "# Verify convergence\n",
    "m = model.input_layer.sample(n_samples=256)\n",
    "values = torch.mean(m, dim=0)\n",
    "sorted_values = torch.sort(values, descending=True).values\n",
    "\n",
    "# Plot\n",
    "fig, axarr = plt.subplots(1, 2, figsize=(16, 6))\n",
    "\n",
    "ax = axarr[0]\n",
    "ax.plot(np.arange(input_size), sorted_values.cpu().data, marker='o')\n",
    "ax.axvline(model.input_layer.k - 0.5, color='black', linestyle='--')\n",
    "ax.set_xlim(-0.5, 2 * model.input_layer.k)\n",
    "ax.set_title('Mask values', fontsize=20)\n",
    "ax.set_xlabel('Mask position (sorted by value)', fontsize=16)\n",
    "ax.set_ylabel('Mask value', fontsize=16)\n",
    "ax.tick_params('both', labelsize=14)\n",
    "\n",
    "ax = axarr[1]\n",
    "ax.imshow(np.reshape(values.cpu().data, (28, 28)))\n",
    "ax.set_title('Selected pixels', fontsize=20)\n",
    "ax.set_xticks([])\n",
    "ax.set_yticks([])\n",
    "\n",
    "plt.tight_layout()\n",
    "plt.show()"
   ]
  },
  {
   "cell_type": "code",
   "execution_count": 5,
   "metadata": {},
   "outputs": [
    {
     "name": "stdout",
     "output_type": "stream",
     "text": [
      "Accuracy = 0.912\n"
     ]
    }
   ],
   "source": [
    "# Extract select inds\n",
    "inds = model.get_inds()\n",
    "\n",
    "# Restrict data to selected indices\n",
    "train_set.set_inds(inds)\n",
    "val_set.set_inds(inds)\n",
    "test_set.set_inds(inds)\n",
    "\n",
    "# Train debiased model\n",
    "model = models.MLP(\n",
    "    input_size=len(inds),\n",
    "    output_size=output_size,\n",
    "    hidden=[512, 512],\n",
    "    activation='elu').cuda()\n",
    "\n",
    "model.learn(\n",
    "    train_set,\n",
    "    val_set,\n",
    "    lr=1e-3,\n",
    "    mbsize=256,\n",
    "    max_nepochs=100,\n",
    "    loss_fn=nn.CrossEntropyLoss(),\n",
    "    verbose=False)\n",
    "\n",
    "# Calculate loss on test set\n",
    "print('Accuracy = {:.3f}'.format(\n",
    "    model.evaluate(test_set, models.utils.Accuracy()).item()))\n",
    "\n",
    "# Reset data\n",
    "train_set.set_inds()\n",
    "val_set.set_inds()\n",
    "test_set.set_inds()"
   ]
  },
  {
   "cell_type": "markdown",
   "metadata": {},
   "source": [
    "# Concrete selector"
   ]
  },
  {
   "cell_type": "code",
   "execution_count": 6,
   "metadata": {
    "scrolled": true
   },
   "outputs": [
    {
     "name": "stdout",
     "output_type": "stream",
     "text": [
      "--------Epoch = 30--------\n",
      "Train loss = 0.4622\n",
      "Val loss = 0.4773\n",
      "Max = 0.00, Mean = 0.00, Min = 0.00\n",
      "--------Epoch = 60--------\n",
      "Train loss = 0.3636\n",
      "Val loss = 0.3665\n",
      "Max = 0.01, Mean = 0.01, Min = 0.00\n",
      "--------Epoch = 90--------\n",
      "Train loss = 0.4361\n",
      "Val loss = 0.4387\n",
      "Max = 0.12, Mean = 0.06, Min = 0.01\n",
      "--------Epoch = 120--------\n",
      "Train loss = 0.3232\n",
      "Val loss = 0.3548\n",
      "Max = 0.82, Mean = 0.52, Min = 0.20\n",
      "--------Epoch = 150--------\n",
      "Train loss = 0.2223\n",
      "Val loss = 0.3321\n",
      "Max = 0.99, Mean = 0.85, Min = 0.35\n",
      "--------Epoch = 180--------\n",
      "Train loss = 0.1574\n",
      "Val loss = 0.3781\n",
      "Max = 1.00, Mean = 0.94, Min = 0.46\n",
      "--------Epoch = 210--------\n",
      "Train loss = 0.0999\n",
      "Val loss = 0.4632\n",
      "Max = 1.00, Mean = 0.98, Min = 0.74\n",
      "--------Epoch = 240--------\n",
      "Train loss = 0.0689\n",
      "Val loss = 0.5715\n",
      "Max = 1.00, Mean = 0.99, Min = 0.84\n",
      "--------Epoch = 270--------\n",
      "Train loss = 0.0615\n",
      "Val loss = 0.7051\n",
      "Max = 1.00, Mean = 0.99, Min = 0.90\n",
      "--------Epoch = 300--------\n",
      "Train loss = 0.0454\n",
      "Val loss = 0.8005\n",
      "Max = 1.00, Mean = 0.99, Min = 0.91\n"
     ]
    }
   ],
   "source": [
    "# Create model\n",
    "model = models.SelectorMLP(\n",
    "    input_layer='concrete_selector',\n",
    "    k=20,\n",
    "    input_size=input_size,\n",
    "    output_size=output_size,\n",
    "    hidden=[512, 512],\n",
    "    activation='elu').cuda()\n",
    "\n",
    "# Train model\n",
    "model.learn(\n",
    "    train_set,\n",
    "    val_set,\n",
    "    lr=1e-3,\n",
    "    mbsize=256,\n",
    "    max_nepochs=300,\n",
    "    start_temperature=10.0,\n",
    "    end_temperature=0.01,\n",
    "    loss_fn=nn.CrossEntropyLoss(),\n",
    "    check_every=30)"
   ]
  },
  {
   "cell_type": "code",
   "execution_count": 7,
   "metadata": {},
   "outputs": [
    {
     "data": {
      "image/png": "[encoded data removed]",
      "text/plain": [
       "<Figure size 1152x432 with 2 Axes>"
      ]
     },
     "metadata": {
      "needs_background": "light"
     },
     "output_type": "display_data"
    }
   ],
   "source": [
    "# Verify convergence\n",
    "M = model.input_layer.sample(n_samples=256)\n",
    "values = torch.mean(M, dim=0)\n",
    "sorted_values = torch.sort(values, dim=1, descending=True).values\n",
    "\n",
    "# Plot\n",
    "fig, axarr = plt.subplots(1, 2, figsize=(16, 6))\n",
    "\n",
    "ax = axarr[0]\n",
    "for i in range(model.input_layer.k):\n",
    "    ax.plot(np.arange(input_size), sorted_values[i].cpu().data,\n",
    "            marker='o', alpha=0.5)\n",
    "ax.set_xlim(-0.4, 3)\n",
    "ax.set_xticks(np.arange(4))\n",
    "ax.axvline(0.5, color='black', linestyle='--')\n",
    "ax.set_title('Selector values', fontsize=20)\n",
    "ax.set_xlabel('Selector position (sorted)', fontsize=16)\n",
    "ax.set_ylabel('Selector value', fontsize=16)\n",
    "ax.tick_params('both', labelsize=14)\n",
    "\n",
    "ax = axarr[1]\n",
    "ax.imshow(np.reshape(torch.sum(values, dim=0).cpu().data,\n",
    "                     (28, 28)))\n",
    "ax.set_title('Selected pixels', fontsize=20)\n",
    "ax.set_xticks([])\n",
    "ax.set_yticks([])\n",
    "\n",
    "plt.tight_layout()\n",
    "plt.show()"
   ]
  },
  {
   "cell_type": "code",
   "execution_count": 8,
   "metadata": {},
   "outputs": [
    {
     "name": "stdout",
     "output_type": "stream",
     "text": [
      "Accuracy = 0.908\n"
     ]
    }
   ],
   "source": [
    "# Extract select inds\n",
    "inds = model.get_inds()\n",
    "\n",
    "# Restrict data to selected indices\n",
    "train_set.set_inds(inds)\n",
    "val_set.set_inds(inds)\n",
    "test_set.set_inds(inds)\n",
    "\n",
    "# Train debiased model\n",
    "model = models.MLP(\n",
    "    input_size=len(inds),\n",
    "    output_size=output_size,\n",
    "    hidden=[512, 512],\n",
    "    activation='elu').cuda()\n",
    "\n",
    "model.learn(\n",
    "    train_set,\n",
    "    val_set,\n",
    "    lr=1e-3,\n",
    "    mbsize=256,\n",
    "    max_nepochs=100,\n",
    "    loss_fn=nn.CrossEntropyLoss(),\n",
    "    verbose=False)\n",
    "\n",
    "# Calculate loss on test set\n",
    "print('Accuracy = {:.3f}'.format(\n",
    "    model.evaluate(test_set, models.utils.Accuracy()).item()))\n",
    "\n",
    "# Reset data\n",
    "train_set.set_inds()\n",
    "val_set.set_inds()\n",
    "test_set.set_inds()"
   ]
  },
  {
   "cell_type": "markdown",
   "metadata": {},
   "source": [
    "# Concrete gates"
   ]
  },
  {
   "cell_type": "code",
   "execution_count": 9,
   "metadata": {
    "scrolled": true
   },
   "outputs": [
    {
     "name": "stdout",
     "output_type": "stream",
     "text": [
      "--------Epoch = 30--------\n",
      "Train loss = 0.4232\n",
      "Val loss = 0.4506\n",
      "Mean dist = 0.06, Max dist = 0.48, Num sel = 1\n",
      "--------Epoch = 60--------\n",
      "Train loss = 0.3747\n",
      "Val loss = 0.4128\n",
      "Mean dist = 0.05, Max dist = 0.49, Num sel = 19\n",
      "--------Epoch = 90--------\n",
      "Train loss = 0.3208\n",
      "Val loss = 0.3838\n",
      "Mean dist = 0.03, Max dist = 0.50, Num sel = 29\n",
      "--------Epoch = 120--------\n",
      "Train loss = 0.2641\n",
      "Val loss = 0.3821\n",
      "Mean dist = 0.02, Max dist = 0.49, Num sel = 30\n",
      "--------Epoch = 150--------\n",
      "Train loss = 0.2223\n",
      "Val loss = 0.4085\n",
      "Mean dist = 0.01, Max dist = 0.50, Num sel = 31\n",
      "--------Epoch = 180--------\n",
      "Train loss = 0.2115\n",
      "Val loss = 0.4675\n",
      "Mean dist = 0.01, Max dist = 0.49, Num sel = 30\n",
      "--------Epoch = 210--------\n",
      "Train loss = 0.1814\n",
      "Val loss = 0.4987\n",
      "Mean dist = 0.01, Max dist = 0.44, Num sel = 29\n",
      "--------Epoch = 240--------\n",
      "Train loss = 0.1735\n",
      "Val loss = 0.5488\n",
      "Mean dist = 0.00, Max dist = 0.43, Num sel = 29\n",
      "--------Epoch = 270--------\n",
      "Train loss = 0.1643\n",
      "Val loss = 0.5985\n",
      "Mean dist = 0.00, Max dist = 0.49, Num sel = 28\n",
      "--------Epoch = 300--------\n",
      "Train loss = 0.1627\n",
      "Val loss = 0.6583\n",
      "Mean dist = 0.00, Max dist = 0.43, Num sel = 28\n"
     ]
    }
   ],
   "source": [
    "# Create model\n",
    "model = models.SelectorMLP(\n",
    "    input_layer='concrete_gates',\n",
    "    input_size=input_size,\n",
    "    output_size=output_size,\n",
    "    hidden=[512, 512],\n",
    "    activation='elu').cuda()\n",
    "\n",
    "# Train model\n",
    "model.learn(\n",
    "    train_set,\n",
    "    val_set,\n",
    "    lam=0.005,\n",
    "    lr=1e-3,\n",
    "    mbsize=256,\n",
    "    max_nepochs=300,\n",
    "    start_temperature=1.0,\n",
    "    end_temperature=0.001,\n",
    "    loss_fn=nn.CrossEntropyLoss(),\n",
    "    check_every=30)"
   ]
  },
  {
   "cell_type": "code",
   "execution_count": 10,
   "metadata": {},
   "outputs": [
    {
     "data": {
      "image/png": "[encoded data removed]",
      "text/plain": [
       "<Figure size 1152x432 with 2 Axes>"
      ]
     },
     "metadata": {
      "needs_background": "light"
     },
     "output_type": "display_data"
    }
   ],
   "source": [
    "# Verify convergence\n",
    "m = model.input_layer.sample(n_samples=256)\n",
    "values = torch.mean(m, dim=0)\n",
    "sorted_values = torch.sort(values, descending=True).values\n",
    "\n",
    "# Plot\n",
    "fig, axarr = plt.subplots(1, 2, figsize=(16, 6))\n",
    "\n",
    "ax = axarr[0]\n",
    "ax.plot(np.arange(input_size), sorted_values.cpu().data,\n",
    "        marker='o')\n",
    "ind = (sorted_values < 0.5).nonzero()[0].item()\n",
    "ax.axvline(ind - 0.5, color='black', linestyle='--')\n",
    "ax.set_xlim(-0.5, min(input_size, 2 * ind))\n",
    "ax.set_title('Mask values', fontsize=20)\n",
    "ax.set_xlabel('Mask position (sorted by value)', fontsize=16)\n",
    "ax.set_ylabel('Mask value', fontsize=16)\n",
    "ax.tick_params('both', labelsize=14)\n",
    "\n",
    "ax = axarr[1]\n",
    "ax.imshow(np.reshape(values.cpu().data, (28, 28)))\n",
    "ax.set_title('Selected pixels', fontsize=20)\n",
    "ax.set_xticks([])\n",
    "ax.set_yticks([])\n",
    "\n",
    "plt.tight_layout()\n",
    "plt.show()"
   ]
  },
  {
   "cell_type": "code",
   "execution_count": 11,
   "metadata": {},
   "outputs": [
    {
     "name": "stdout",
     "output_type": "stream",
     "text": [
      "Accuracy = 0.936\n"
     ]
    }
   ],
   "source": [
    "# Extract selected inds\n",
    "inds = model.get_inds(threshold=0.5)\n",
    "\n",
    "# Restrict data to selected indices\n",
    "train_set.set_inds(inds)\n",
    "val_set.set_inds(inds)\n",
    "test_set.set_inds(inds)\n",
    "\n",
    "# Train debiased model\n",
    "model = models.MLP(\n",
    "    input_size=len(inds),\n",
    "    output_size=output_size,\n",
    "    hidden=[512, 512],\n",
    "    activation='elu').cuda()\n",
    "\n",
    "model.learn(\n",
    "    train_set,\n",
    "    val_set,\n",
    "    lr=1e-3,\n",
    "    mbsize=256,\n",
    "    max_nepochs=100,\n",
    "    loss_fn=nn.CrossEntropyLoss(),\n",
    "    verbose=False)\n",
    "\n",
    "# Calculate loss on test set\n",
    "print('Accuracy = {:.3f}'.format(\n",
    "    model.evaluate(test_set, models.utils.Accuracy()).item()))\n",
    "\n",
    "# Reset data\n",
    "train_set.set_inds()\n",
    "val_set.set_inds()\n",
    "test_set.set_inds()"
   ]
  },
  {
   "cell_type": "markdown",
   "metadata": {},
   "source": [
    "# Concrete max"
   ]
  },
  {
   "cell_type": "code",
   "execution_count": 12,
   "metadata": {
    "scrolled": true
   },
   "outputs": [
    {
     "name": "stdout",
     "output_type": "stream",
     "text": [
      "--------Epoch = 30--------\n",
      "Train loss = 0.1909\n",
      "Val loss = 0.2271\n",
      "Max = 0.01, Mean = 0.01, Min = 0.01\n",
      "--------Epoch = 60--------\n",
      "Train loss = 0.1347\n",
      "Val loss = 0.1850\n",
      "Max = 0.03, Mean = 0.03, Min = 0.02\n",
      "--------Epoch = 90--------\n",
      "Train loss = 0.2218\n",
      "Val loss = 0.2505\n",
      "Max = 0.14, Mean = 0.09, Min = 0.07\n",
      "--------Epoch = 120--------\n",
      "Train loss = 0.3114\n",
      "Val loss = 0.3256\n",
      "Max = 0.25, Mean = 0.18, Min = 0.15\n",
      "--------Epoch = 150--------\n",
      "Train loss = 0.3836\n",
      "Val loss = 0.4023\n",
      "Max = 0.43, Mean = 0.27, Min = 0.21\n",
      "--------Epoch = 180--------\n",
      "Train loss = 0.4570\n",
      "Val loss = 0.4976\n",
      "Max = 0.54, Mean = 0.37, Min = 0.29\n",
      "--------Epoch = 210--------\n",
      "Train loss = 0.4890\n",
      "Val loss = 0.5192\n",
      "Max = 0.52, Mean = 0.40, Min = 0.32\n",
      "--------Epoch = 240--------\n",
      "Train loss = 0.5251\n",
      "Val loss = 0.5488\n",
      "Max = 0.55, Mean = 0.42, Min = 0.35\n",
      "--------Epoch = 270--------\n",
      "Train loss = 0.5137\n",
      "Val loss = 0.5473\n",
      "Max = 0.57, Mean = 0.44, Min = 0.35\n",
      "--------Epoch = 300--------\n",
      "Train loss = 0.5147\n",
      "Val loss = 0.5587\n",
      "Max = 0.55, Mean = 0.44, Min = 0.38\n"
     ]
    }
   ],
   "source": [
    "# Create model\n",
    "model = models.SelectorMLP(\n",
    "    input_layer='concrete_max',\n",
    "    k=20,\n",
    "    input_size=input_size,\n",
    "    output_size=output_size,\n",
    "    hidden=[512, 512],\n",
    "    activation='elu').cuda()\n",
    "\n",
    "# Train model\n",
    "model.learn(\n",
    "    train_set,\n",
    "    val_set,\n",
    "    lr=1e-3,\n",
    "    mbsize=256,\n",
    "    max_nepochs=300,\n",
    "    start_temperature=10.0,\n",
    "    end_temperature=0.01,\n",
    "    loss_fn=nn.CrossEntropyLoss(),\n",
    "    check_every=30)"
   ]
  },
  {
   "cell_type": "code",
   "execution_count": 13,
   "metadata": {},
   "outputs": [
    {
     "data": {
      "image/png": "[encoded data removed]",
      "text/plain": [
       "<Figure size 1152x432 with 2 Axes>"
      ]
     },
     "metadata": {
      "needs_background": "light"
     },
     "output_type": "display_data"
    }
   ],
   "source": [
    "# Verify convergence\n",
    "m = model.input_layer.sample(n_samples=256)\n",
    "values = torch.mean(m, dim=0)\n",
    "sorted_values = torch.sort(values, descending=True).values\n",
    "\n",
    "# Plot\n",
    "fig, axarr = plt.subplots(1, 2, figsize=(16, 6))\n",
    "\n",
    "ax = axarr[0]\n",
    "ax.plot(np.arange(input_size), sorted_values.cpu().data, marker='o')\n",
    "ax.axvline(model.input_layer.k - 0.5, color='black', linestyle='--')\n",
    "ax.set_xlim(-0.5, 2 * model.input_layer.k)\n",
    "ax.set_title('Mean mask values', fontsize=20)\n",
    "ax.set_xlabel('Mask position (sorted by value)', fontsize=16)\n",
    "ax.set_ylabel('Mask value', fontsize=16)\n",
    "ax.tick_params('both', labelsize=14)\n",
    "\n",
    "ax = axarr[1]\n",
    "ax.imshow(np.reshape(values.cpu().data, (28, 28)), vmin=0, vmax=1)\n",
    "ax.set_title('Commonly selected pixels', fontsize=20)\n",
    "ax.set_xticks([])\n",
    "ax.set_yticks([])\n",
    "\n",
    "plt.tight_layout()\n",
    "plt.show()"
   ]
  },
  {
   "cell_type": "code",
   "execution_count": 14,
   "metadata": {},
   "outputs": [
    {
     "name": "stdout",
     "output_type": "stream",
     "text": [
      "Accuracy = 0.906\n"
     ]
    }
   ],
   "source": [
    "# Extract select inds\n",
    "inds = model.get_inds()\n",
    "\n",
    "# Restrict data to selected indices\n",
    "train_set.set_inds(inds)\n",
    "val_set.set_inds(inds)\n",
    "test_set.set_inds(inds)\n",
    "\n",
    "# Train debiased model\n",
    "model = models.MLP(\n",
    "    input_size=len(inds),\n",
    "    output_size=output_size,\n",
    "    hidden=[512, 512],\n",
    "    activation='elu').cuda()\n",
    "\n",
    "model.learn(\n",
    "    train_set,\n",
    "    val_set,\n",
    "    lr=1e-3,\n",
    "    mbsize=256,\n",
    "    max_nepochs=100,\n",
    "    loss_fn=nn.CrossEntropyLoss(),\n",
    "    verbose=False)\n",
    "\n",
    "# Calculate loss on test set\n",
    "print('Accuracy = {:.3f}'.format(\n",
    "    model.evaluate(test_set, models.utils.Accuracy()).item()))\n",
    "\n",
    "# Reset data\n",
    "train_set.set_inds()\n",
    "val_set.set_inds()\n",
    "test_set.set_inds()"
   ]
  },
  {
   "cell_type": "code",
   "execution_count": null,
   "metadata": {},
   "outputs": [],
   "source": []
  }
 ],
 "metadata": {
  "kernelspec": {
   "display_name": "Python 3",
   "language": "python",
   "name": "python3"
  },
  "language_info": {
   "codemirror_mode": {
    "name": "ipython",
    "version": 3
   },
   "file_extension": ".py",
   "mimetype": "text/x-python",
   "name": "python",
   "nbconvert_exporter": "python",
   "pygments_lexer": "ipython3",
   "version": "3.6.8"
  }
 },
 "nbformat": 4,
 "nbformat_minor": 2
}
