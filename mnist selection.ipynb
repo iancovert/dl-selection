{
 "cells": [
  {
   "cell_type": "code",
   "execution_count": 1,
   "metadata": {},
   "outputs": [],
   "source": [
    "import torch\n",
    "import torch.nn as nn\n",
    "import numpy as np\n",
    "import matplotlib.pyplot as plt\n",
    "import torchvision.datasets as dsets\n",
    "from selection import models, data"
   ]
  },
  {
   "cell_type": "code",
   "execution_count": 2,
   "metadata": {},
   "outputs": [],
   "source": [
    "# Load train set\n",
    "train = dsets.MNIST('./', train=True, download=True)\n",
    "imgs = train.data.reshape(-1, 784) / 255.0\n",
    "labels = train.targets\n",
    "\n",
    "# Shuffle and split into train and val\n",
    "inds = torch.randperm(len(train))\n",
    "imgs = imgs[inds]\n",
    "labels = labels[inds]\n",
    "val_x, val_y = imgs[:6000], labels[:6000]\n",
    "train_x, train_y = imgs[6000:], labels[6000:]\n",
    "\n",
    "# Load test set\n",
    "test = dsets.MNIST('./', train=False, download=True)\n",
    "test_x = test.data.reshape(-1, 784) / 255.0\n",
    "test_y = test.targets\n",
    "\n",
    "# Create TabularDatasets (for specifying feature indices)\n",
    "train_set = data.TabularDataset(train_x, train_y)\n",
    "val_set = data.TabularDataset(val_x, val_y)\n",
    "test_set = data.TabularDataset(test_x, test_y)\n",
    "input_size = train_set.input_size\n",
    "output_size = train_set.output_size"
   ]
  },
  {
   "cell_type": "markdown",
   "metadata": {},
   "source": [
    "# Concrete mask"
   ]
  },
  {
   "cell_type": "code",
   "execution_count": 3,
   "metadata": {
    "scrolled": true
   },
   "outputs": [
    {
     "name": "stdout",
     "output_type": "stream",
     "text": [
      "--------Epoch = 10--------\n",
      "Train loss = 0.1800\n",
      "Val loss = 0.2058\n",
      "Max = 0.05, Mean = 0.04, Min = 0.03\n",
      "--------Epoch = 20--------\n",
      "Train loss = 0.0990\n",
      "Val loss = 0.1428\n",
      "Max = 0.11, Mean = 0.07, Min = 0.05\n",
      "--------Epoch = 30--------\n",
      "Train loss = 0.1863\n",
      "Val loss = 0.2080\n",
      "Max = 0.20, Mean = 0.13, Min = 0.09\n",
      "--------Epoch = 40--------\n",
      "Train loss = 0.4068\n",
      "Val loss = 0.4269\n",
      "Max = 0.54, Mean = 0.26, Min = 0.16\n",
      "--------Epoch = 50--------\n",
      "Train loss = 0.3747\n",
      "Val loss = 0.4010\n",
      "Max = 0.97, Mean = 0.73, Min = 0.26\n",
      "--------Epoch = 60--------\n",
      "Train loss = 0.2380\n",
      "Val loss = 0.2852\n",
      "Max = 1.00, Mean = 0.97, Min = 0.87\n",
      "--------Epoch = 70--------\n",
      "Train loss = 0.1791\n",
      "Val loss = 0.2741\n",
      "Max = 1.00, Mean = 0.99, Min = 0.98\n",
      "--------Epoch = 80--------\n",
      "Train loss = 0.1496\n",
      "Val loss = 0.3026\n",
      "Max = 1.00, Mean = 1.00, Min = 1.00\n",
      "--------Epoch = 90--------\n",
      "Train loss = 0.1120\n",
      "Val loss = 0.3253\n",
      "Max = 1.00, Mean = 1.00, Min = 0.99\n",
      "--------Epoch = 100--------\n",
      "Train loss = 0.0895\n",
      "Val loss = 0.3558\n",
      "Max = 1.00, Mean = 1.00, Min = 1.00\n"
     ]
    }
   ],
   "source": [
    "# Create model\n",
    "model = models.SelectorMLP(\n",
    "    input_layer='concrete_mask',\n",
    "    k=20,\n",
    "    input_size=input_size,\n",
    "    output_size=output_size,\n",
    "    hidden=[512, 512],\n",
    "    activation='elu').cuda()\n",
    "\n",
    "# Train model\n",
    "model.learn(\n",
    "    train_set,\n",
    "    val_set,\n",
    "    lr=1e-3,\n",
    "    mbsize=256,\n",
    "    max_nepochs=100,\n",
    "    start_temperature=10.0,\n",
    "    end_temperature=0.01,\n",
    "    loss_fn=nn.CrossEntropyLoss(),\n",
    "    check_every=10)"
   ]
  },
  {
   "cell_type": "code",
   "execution_count": 4,
   "metadata": {},
   "outputs": [
    {
     "data": {
      "image/png": "[encoded data removed]",
      "text/plain": [
       "<Figure size 1152x432 with 2 Axes>"
      ]
     },
     "metadata": {
      "needs_background": "light"
     },
     "output_type": "display_data"
    }
   ],
   "source": [
    "# Verify convergence\n",
    "m = model.input_layer.sample(n_samples=256)\n",
    "values = torch.mean(m, dim=0)\n",
    "sorted_values = torch.sort(values, descending=True).values\n",
    "\n",
    "# Plot\n",
    "fig, axarr = plt.subplots(1, 2, figsize=(16, 6))\n",
    "\n",
    "ax = axarr[0]\n",
    "ax.plot(np.arange(input_size), sorted_values.cpu().data, marker='o')\n",
    "ax.axvline(model.input_layer.k - 0.5, color='black', linestyle='--')\n",
    "ax.set_xlim(-0.5, 2 * model.input_layer.k)\n",
    "ax.set_title('Mask values', fontsize=20)\n",
    "ax.set_xlabel('Mask position (sorted by value)', fontsize=16)\n",
    "ax.set_ylabel('Mask value', fontsize=16)\n",
    "ax.tick_params('both', labelsize=14)\n",
    "\n",
    "ax = axarr[1]\n",
    "ax.imshow(np.reshape(values.cpu().data, (28, 28)))\n",
    "ax.set_title('Selected pixels', fontsize=20)\n",
    "ax.set_xticks([])\n",
    "ax.set_yticks([])\n",
    "\n",
    "plt.tight_layout()\n",
    "plt.show()"
   ]
  },
  {
   "cell_type": "code",
   "execution_count": 5,
   "metadata": {},
   "outputs": [
    {
     "name": "stdout",
     "output_type": "stream",
     "text": [
      "Accuracy = 0.916\n"
     ]
    }
   ],
   "source": [
    "# Extract select inds\n",
    "inds = model.get_inds()\n",
    "\n",
    "# Restrict data to selected indices\n",
    "train_set.set_inds(inds)\n",
    "val_set.set_inds(inds)\n",
    "test_set.set_inds(inds)\n",
    "\n",
    "# Train debiased model\n",
    "model = models.MLP(\n",
    "    input_size=len(inds),\n",
    "    output_size=output_size,\n",
    "    hidden=[512, 512],\n",
    "    activation='elu').cuda()\n",
    "\n",
    "model.learn(\n",
    "    train_set,\n",
    "    val_set,\n",
    "    lr=1e-3,\n",
    "    mbsize=256,\n",
    "    max_nepochs=100,\n",
    "    loss_fn=nn.CrossEntropyLoss(),\n",
    "    verbose=False)\n",
    "\n",
    "# Calculate loss on test set\n",
    "print('Accuracy = {:.3f}'.format(\n",
    "    model.evaluate(test_set, models.utils.Accuracy()).item()))\n",
    "\n",
    "# Reset data\n",
    "train_set.set_inds()\n",
    "val_set.set_inds()\n",
    "test_set.set_inds()"
   ]
  },
  {
   "cell_type": "markdown",
   "metadata": {},
   "source": [
    "# Concrete selector"
   ]
  },
  {
   "cell_type": "code",
   "execution_count": 6,
   "metadata": {
    "scrolled": true
   },
   "outputs": [
    {
     "name": "stdout",
     "output_type": "stream",
     "text": [
      "--------Epoch = 10--------\n",
      "Train loss = 0.4934\n",
      "Val loss = 0.4849\n",
      "Max = 0.03, Mean = 0.02, Min = 0.01\n",
      "--------Epoch = 20--------\n",
      "Train loss = 0.3532\n",
      "Val loss = 0.3638\n",
      "Max = 0.21, Mean = 0.07, Min = 0.03\n",
      "--------Epoch = 30--------\n",
      "Train loss = 0.2721\n",
      "Val loss = 0.2848\n",
      "Max = 0.53, Mean = 0.30, Min = 0.12\n",
      "--------Epoch = 40--------\n",
      "Train loss = 0.2903\n",
      "Val loss = 0.3211\n",
      "Max = 0.89, Mean = 0.58, Min = 0.29\n",
      "--------Epoch = 50--------\n",
      "Train loss = 0.2496\n",
      "Val loss = 0.3091\n",
      "Max = 1.00, Mean = 0.87, Min = 0.45\n",
      "--------Epoch = 60--------\n",
      "Train loss = 0.2021\n",
      "Val loss = 0.3070\n",
      "Max = 1.00, Mean = 0.98, Min = 0.93\n",
      "--------Epoch = 70--------\n",
      "Train loss = 0.1680\n",
      "Val loss = 0.3314\n",
      "Max = 1.00, Mean = 1.00, Min = 0.98\n",
      "--------Epoch = 80--------\n",
      "Train loss = 0.1322\n",
      "Val loss = 0.3378\n",
      "Max = 1.00, Mean = 1.00, Min = 0.99\n",
      "--------Epoch = 90--------\n",
      "Train loss = 0.1147\n",
      "Val loss = 0.3786\n",
      "Max = 1.00, Mean = 1.00, Min = 0.99\n",
      "--------Epoch = 100--------\n",
      "Train loss = 0.0986\n",
      "Val loss = 0.4117\n",
      "Max = 1.00, Mean = 1.00, Min = 1.00\n"
     ]
    }
   ],
   "source": [
    "# Create model\n",
    "model = models.SelectorMLP(\n",
    "    input_layer='concrete_selector',\n",
    "    k=20,\n",
    "    input_size=input_size,\n",
    "    output_size=output_size,\n",
    "    hidden=[512, 512],\n",
    "    activation='elu').cuda()\n",
    "\n",
    "# Train model\n",
    "model.learn(\n",
    "    train_set,\n",
    "    val_set,\n",
    "    lr=1e-3,\n",
    "    mbsize=256,\n",
    "    max_nepochs=100,\n",
    "    start_temperature=10.0,\n",
    "    end_temperature=0.01,\n",
    "    loss_fn=nn.CrossEntropyLoss(),\n",
    "    check_every=10)"
   ]
  },
  {
   "cell_type": "code",
   "execution_count": 7,
   "metadata": {},
   "outputs": [
    {
     "data": {
      "image/png": "[encoded data removed]",
      "text/plain": [
       "<Figure size 1152x432 with 2 Axes>"
      ]
     },
     "metadata": {
      "needs_background": "light"
     },
     "output_type": "display_data"
    }
   ],
   "source": [
    "# Verify convergence\n",
    "M = model.input_layer.sample(n_samples=256)\n",
    "values = torch.mean(M, dim=0)\n",
    "sorted_values = torch.sort(values, dim=1, descending=True).values\n",
    "\n",
    "# Plot\n",
    "fig, axarr = plt.subplots(1, 2, figsize=(16, 6))\n",
    "\n",
    "ax = axarr[0]\n",
    "for i in range(model.input_layer.k):\n",
    "    ax.plot(np.arange(input_size), sorted_values[i].cpu().data,\n",
    "            marker='o', alpha=0.5)\n",
    "ax.set_xlim(-0.4, 3)\n",
    "ax.set_xticks(np.arange(4))\n",
    "ax.axvline(0.5, color='black', linestyle='--')\n",
    "ax.set_title('Selector values', fontsize=20)\n",
    "ax.set_xlabel('Selector position (sorted)', fontsize=16)\n",
    "ax.set_ylabel('Selector value', fontsize=16)\n",
    "ax.tick_params('both', labelsize=14)\n",
    "\n",
    "ax = axarr[1]\n",
    "ax.imshow(np.reshape(torch.sum(values, dim=0).cpu().data,\n",
    "                     (28, 28)))\n",
    "ax.set_title('Selected pixels', fontsize=20)\n",
    "ax.set_xticks([])\n",
    "ax.set_yticks([])\n",
    "\n",
    "plt.tight_layout()\n",
    "plt.show()"
   ]
  },
  {
   "cell_type": "code",
   "execution_count": 8,
   "metadata": {},
   "outputs": [
    {
     "name": "stdout",
     "output_type": "stream",
     "text": [
      "Accuracy = 0.907\n"
     ]
    }
   ],
   "source": [
    "# Extract select inds\n",
    "inds = model.get_inds()\n",
    "\n",
    "# Restrict data to selected indices\n",
    "train_set.set_inds(inds)\n",
    "val_set.set_inds(inds)\n",
    "test_set.set_inds(inds)\n",
    "\n",
    "# Train debiased model\n",
    "model = models.MLP(\n",
    "    input_size=len(inds),\n",
    "    output_size=output_size,\n",
    "    hidden=[512, 512],\n",
    "    activation='elu').cuda()\n",
    "\n",
    "model.learn(\n",
    "    train_set,\n",
    "    val_set,\n",
    "    lr=1e-3,\n",
    "    mbsize=256,\n",
    "    max_nepochs=100,\n",
    "    loss_fn=nn.CrossEntropyLoss(),\n",
    "    verbose=False)\n",
    "\n",
    "# Calculate loss on test set\n",
    "print('Accuracy = {:.3f}'.format(\n",
    "    model.evaluate(test_set, models.utils.Accuracy()).item()))\n",
    "\n",
    "# Reset data\n",
    "train_set.set_inds()\n",
    "val_set.set_inds()\n",
    "test_set.set_inds()"
   ]
  },
  {
   "cell_type": "markdown",
   "metadata": {},
   "source": [
    "# Concrete gates"
   ]
  },
  {
   "cell_type": "code",
   "execution_count": 9,
   "metadata": {
    "scrolled": true
   },
   "outputs": [
    {
     "name": "stdout",
     "output_type": "stream",
     "text": [
      "--------Epoch = 100--------\n",
      "Train loss = 0.3305\n",
      "Val loss = 0.3548\n",
      "Mean dist = 0.05, Max dist = 0.49, Num sel = 4\n",
      "--------Epoch = 200--------\n",
      "Train loss = 0.2851\n",
      "Val loss = 0.3789\n",
      "Mean dist = 0.03, Max dist = 0.47, Num sel = 25\n",
      "--------Epoch = 300--------\n",
      "Train loss = 0.2145\n",
      "Val loss = 0.4110\n",
      "Mean dist = 0.01, Max dist = 0.41, Num sel = 29\n",
      "--------Epoch = 400--------\n",
      "Train loss = 0.1734\n",
      "Val loss = 0.5046\n",
      "Mean dist = 0.01, Max dist = 0.27, Num sel = 29\n",
      "--------Epoch = 500--------\n",
      "Train loss = 0.1576\n",
      "Val loss = 0.6485\n",
      "Mean dist = 0.00, Max dist = 0.32, Num sel = 29\n",
      "--------Epoch = 600--------\n",
      "Train loss = 0.1525\n",
      "Val loss = 0.7114\n",
      "Mean dist = 0.00, Max dist = 0.33, Num sel = 29\n",
      "--------Epoch = 700--------\n",
      "Train loss = 0.1525\n",
      "Val loss = 0.8089\n",
      "Mean dist = 0.00, Max dist = 0.46, Num sel = 28\n",
      "--------Epoch = 800--------\n",
      "Train loss = 0.1476\n",
      "Val loss = 0.8694\n",
      "Mean dist = 0.00, Max dist = 0.48, Num sel = 27\n",
      "--------Epoch = 900--------\n",
      "Train loss = 0.1513\n",
      "Val loss = 0.8703\n",
      "Mean dist = 0.00, Max dist = 0.28, Num sel = 27\n",
      "--------Epoch = 1000--------\n",
      "Train loss = 0.1492\n",
      "Val loss = 0.8767\n",
      "Mean dist = 0.00, Max dist = 0.38, Num sel = 27\n"
     ]
    }
   ],
   "source": [
    "# Create model\n",
    "model = models.SelectorMLP(\n",
    "    input_layer='concrete_gates',\n",
    "    input_size=input_size,\n",
    "    output_size=output_size,\n",
    "    hidden=[512, 512],\n",
    "    activation='elu').cuda()\n",
    "\n",
    "# Train model\n",
    "model.learn(\n",
    "    train_set,\n",
    "    val_set,\n",
    "    lam=0.005,\n",
    "    lr=1e-3,\n",
    "    mbsize=256,\n",
    "    max_nepochs=1000,\n",
    "    start_temperature=1.0,\n",
    "    end_temperature=0.0001,\n",
    "    loss_fn=nn.CrossEntropyLoss(),\n",
    "    check_every=100)"
   ]
  },
  {
   "cell_type": "code",
   "execution_count": 10,
   "metadata": {},
   "outputs": [
    {
     "data": {
      "image/png": "[encoded data removed]",
      "text/plain": [
       "<Figure size 1152x432 with 2 Axes>"
      ]
     },
     "metadata": {
      "needs_background": "light"
     },
     "output_type": "display_data"
    }
   ],
   "source": [
    "# Verify convergence\n",
    "m = model.input_layer.sample(n_samples=256)\n",
    "values = torch.mean(m, dim=0)\n",
    "sorted_values = torch.sort(values, descending=True).values\n",
    "\n",
    "# Plot\n",
    "fig, axarr = plt.subplots(1, 2, figsize=(16, 6))\n",
    "\n",
    "ax = axarr[0]\n",
    "ax.plot(np.arange(input_size), sorted_values.cpu().data,\n",
    "        marker='o')\n",
    "ind = (sorted_values < 0.5).nonzero()[0].item()\n",
    "ax.axvline(ind - 0.5, color='black', linestyle='--')\n",
    "ax.set_xlim(-0.5, min(input_size, 2 * ind))\n",
    "ax.set_title('Mask values', fontsize=20)\n",
    "ax.set_xlabel('Mask position (sorted by value)', fontsize=16)\n",
    "ax.set_ylabel('Mask value', fontsize=16)\n",
    "ax.tick_params('both', labelsize=14)\n",
    "\n",
    "ax = axarr[1]\n",
    "ax.imshow(np.reshape(values.cpu().data, (28, 28)))\n",
    "ax.set_title('Selected pixels', fontsize=20)\n",
    "ax.set_xticks([])\n",
    "ax.set_yticks([])\n",
    "\n",
    "plt.tight_layout()\n",
    "plt.show()"
   ]
  },
  {
   "cell_type": "code",
   "execution_count": 11,
   "metadata": {},
   "outputs": [
    {
     "name": "stdout",
     "output_type": "stream",
     "text": [
      "Accuracy = 0.936\n"
     ]
    }
   ],
   "source": [
    "# Extract selected inds\n",
    "inds = model.get_inds(threshold=0.5)\n",
    "\n",
    "# Restrict data to selected indices\n",
    "train_set.set_inds(inds)\n",
    "val_set.set_inds(inds)\n",
    "test_set.set_inds(inds)\n",
    "\n",
    "# Train debiased model\n",
    "model = models.MLP(\n",
    "    input_size=len(inds),\n",
    "    output_size=output_size,\n",
    "    hidden=[512, 512],\n",
    "    activation='elu').cuda()\n",
    "\n",
    "model.learn(\n",
    "    train_set,\n",
    "    val_set,\n",
    "    lr=1e-3,\n",
    "    mbsize=256,\n",
    "    max_nepochs=100,\n",
    "    loss_fn=nn.CrossEntropyLoss(),\n",
    "    verbose=False)\n",
    "\n",
    "# Calculate loss on test set\n",
    "print('Accuracy = {:.3f}'.format(\n",
    "    model.evaluate(test_set, models.utils.Accuracy()).item()))\n",
    "\n",
    "# Reset data\n",
    "train_set.set_inds()\n",
    "val_set.set_inds()\n",
    "test_set.set_inds()"
   ]
  },
  {
   "cell_type": "code",
   "execution_count": null,
   "metadata": {},
   "outputs": [],
   "source": []
  }
 ],
 "metadata": {
  "kernelspec": {
   "display_name": "Python 3",
   "language": "python",
   "name": "python3"
  },
  "language_info": {
   "codemirror_mode": {
    "name": "ipython",
    "version": 3
   },
   "file_extension": ".py",
   "mimetype": "text/x-python",
   "name": "python",
   "nbconvert_exporter": "python",
   "pygments_lexer": "ipython3",
   "version": "3.6.8"
  }
 },
 "nbformat": 4,
 "nbformat_minor": 2
}
