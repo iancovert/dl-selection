{
 "cells": [
  {
   "cell_type": "code",
   "execution_count": 1,
   "metadata": {},
   "outputs": [],
   "source": [
    "import torch\n",
    "import torch.nn as nn\n",
    "import numpy as np\n",
    "import matplotlib.pyplot as plt\n",
    "import torchvision.datasets as dsets\n",
    "from selection import models, data"
   ]
  },
  {
   "cell_type": "code",
   "execution_count": 2,
   "metadata": {},
   "outputs": [],
   "source": [
    "# Load train set\n",
    "train = dsets.MNIST('./', train=True, download=True)\n",
    "imgs = train.data.reshape(-1, 784) / 255.0\n",
    "labels = train.targets\n",
    "\n",
    "# Shuffle and split into train and val\n",
    "inds = torch.randperm(len(train))\n",
    "imgs = imgs[inds]\n",
    "labels = labels[inds]\n",
    "val_x, val_y = imgs[:6000], labels[:6000]\n",
    "train_x, train_y = imgs[6000:], labels[6000:]\n",
    "\n",
    "# Load test set\n",
    "test = dsets.MNIST('./', train=False, download=True)\n",
    "test_x = test.data.reshape(-1, 784) / 255.0\n",
    "test_y = test.targets\n",
    "\n",
    "# Create TabularDatasets (for specifying feature indices)\n",
    "train_set = data.TabularDataset(train_x, train_y)\n",
    "val_set = data.TabularDataset(val_x, val_y)\n",
    "test_set = data.TabularDataset(test_x, test_y)\n",
    "input_size = train_set.input_size\n",
    "output_size = train_set.output_size"
   ]
  },
  {
   "cell_type": "markdown",
   "metadata": {},
   "source": [
    "# Concrete mask"
   ]
  },
  {
   "cell_type": "code",
   "execution_count": 3,
   "metadata": {
    "scrolled": true
   },
   "outputs": [
    {
     "name": "stdout",
     "output_type": "stream",
     "text": [
      "--------Epoch = 10--------\n",
      "Train loss = 0.2010\n",
      "Val loss = 0.2259\n",
      "Max = 0.04, Mean = 0.03, Min = 0.03\n",
      "--------Epoch = 20--------\n",
      "Train loss = 0.1350\n",
      "Val loss = 0.1697\n",
      "Max = 0.11, Mean = 0.06, Min = 0.05\n",
      "--------Epoch = 30--------\n",
      "Train loss = 0.2077\n",
      "Val loss = 0.2286\n",
      "Max = 0.23, Mean = 0.12, Min = 0.08\n",
      "--------Epoch = 40--------\n",
      "Train loss = 0.4136\n",
      "Val loss = 0.4120\n",
      "Max = 0.57, Mean = 0.24, Min = 0.14\n",
      "--------Epoch = 50--------\n",
      "Train loss = 0.4586\n",
      "Val loss = 0.4706\n",
      "Max = 1.00, Mean = 0.58, Min = 0.23\n",
      "--------Epoch = 60--------\n",
      "Train loss = 0.3232\n",
      "Val loss = 0.3529\n",
      "Max = 1.00, Mean = 0.92, Min = 0.52\n",
      "--------Epoch = 70--------\n",
      "Train loss = 0.2783\n",
      "Val loss = 0.3271\n",
      "Max = 1.00, Mean = 0.98, Min = 0.70\n",
      "--------Epoch = 80--------\n",
      "Train loss = 0.2377\n",
      "Val loss = 0.3167\n",
      "Max = 1.00, Mean = 1.00, Min = 0.95\n",
      "--------Epoch = 90--------\n",
      "Train loss = 0.2103\n",
      "Val loss = 0.3109\n",
      "Max = 1.00, Mean = 1.00, Min = 0.99\n",
      "--------Epoch = 100--------\n",
      "Train loss = 0.1879\n",
      "Val loss = 0.3209\n",
      "Max = 1.00, Mean = 1.00, Min = 0.99\n"
     ]
    }
   ],
   "source": [
    "# Create model\n",
    "model = models.SelectorMLP(\n",
    "    input_layer='concrete_mask',\n",
    "    k=20,\n",
    "    input_size=input_size,\n",
    "    output_size=output_size,\n",
    "    hidden=[256, 256],\n",
    "    activation='elu').cuda(4)\n",
    "\n",
    "# Train model\n",
    "model.train(\n",
    "    train_set,\n",
    "    val_set,\n",
    "    lr=1e-3,\n",
    "    mbsize=256,\n",
    "    max_nepochs=100,\n",
    "    start_temperature=10.0,\n",
    "    end_temperature=0.01,\n",
    "    loss_fn=nn.CrossEntropyLoss(),\n",
    "    check_every=10)"
   ]
  },
  {
   "cell_type": "code",
   "execution_count": 4,
   "metadata": {},
   "outputs": [
    {
     "data": {
      "image/png": "[encoded data removed]",
      "text/plain": [
       "<Figure size 1152x432 with 2 Axes>"
      ]
     },
     "metadata": {
      "needs_background": "light"
     },
     "output_type": "display_data"
    }
   ],
   "source": [
    "# Verify convergence\n",
    "m = model.input_layer.sample(n_samples=256)\n",
    "values = torch.mean(m, dim=0)\n",
    "sorted_values = torch.sort(values, descending=True).values\n",
    "\n",
    "# Plot\n",
    "fig, axarr = plt.subplots(1, 2, figsize=(16, 6))\n",
    "\n",
    "ax = axarr[0]\n",
    "ax.plot(np.arange(input_size), sorted_values.cpu().data, marker='o')\n",
    "ax.axvline(model.input_layer.k - 0.5, color='black', linestyle='--')\n",
    "ax.set_xlim(-0.5, 2 * model.input_layer.k)\n",
    "ax.set_title('Mask values', fontsize=20)\n",
    "ax.set_xlabel('Mask position (sorted by value)', fontsize=16)\n",
    "ax.set_ylabel('Mask value', fontsize=16)\n",
    "ax.tick_params('both', labelsize=14)\n",
    "\n",
    "ax = axarr[1]\n",
    "ax.imshow(np.reshape(values.cpu().data, (28, 28)))\n",
    "ax.set_title('Selected pixels', fontsize=20)\n",
    "ax.set_xticks([])\n",
    "ax.set_yticks([])\n",
    "\n",
    "plt.tight_layout()\n",
    "plt.show()"
   ]
  },
  {
   "cell_type": "code",
   "execution_count": 5,
   "metadata": {},
   "outputs": [
    {
     "name": "stdout",
     "output_type": "stream",
     "text": [
      "Accuracy = 0.907\n"
     ]
    }
   ],
   "source": [
    "# Extract select inds\n",
    "inds = model.get_inds()\n",
    "\n",
    "# Restrict data to selected indices\n",
    "train_set.set_inds(inds)\n",
    "val_set.set_inds(inds)\n",
    "test_set.set_inds(inds)\n",
    "\n",
    "# Train debiased model\n",
    "model = models.MLP(\n",
    "    input_size=len(inds),\n",
    "    output_size=output_size,\n",
    "    hidden=[256, 256],\n",
    "    activation='elu').cuda(4)\n",
    "\n",
    "model.train(\n",
    "    train_set,\n",
    "    val_set,\n",
    "    lr=1e-3,\n",
    "    mbsize=256,\n",
    "    max_nepochs=100,\n",
    "    loss_fn=nn.CrossEntropyLoss(),\n",
    "    verbose=False)\n",
    "\n",
    "# Calculate loss on test set\n",
    "print('Accuracy = {:.3f}'.format(\n",
    "    model.evaluate(test_set, models.utils.Accuracy()).item()))\n",
    "\n",
    "# Reset data\n",
    "train_set.set_inds()\n",
    "val_set.set_inds()\n",
    "test_set.set_inds()"
   ]
  },
  {
   "cell_type": "markdown",
   "metadata": {},
   "source": [
    "# Concrete selector"
   ]
  },
  {
   "cell_type": "code",
   "execution_count": 6,
   "metadata": {
    "scrolled": true
   },
   "outputs": [
    {
     "name": "stdout",
     "output_type": "stream",
     "text": [
      "--------Epoch = 10--------\n",
      "Train loss = 0.5956\n",
      "Val loss = 0.6060\n",
      "Max = 0.05, Mean = 0.02, Min = 0.01\n",
      "--------Epoch = 20--------\n",
      "Train loss = 0.3870\n",
      "Val loss = 0.4033\n",
      "Max = 0.38, Mean = 0.10, Min = 0.03\n",
      "--------Epoch = 30--------\n",
      "Train loss = 0.3404\n",
      "Val loss = 0.3570\n",
      "Max = 0.53, Mean = 0.26, Min = 0.11\n",
      "--------Epoch = 40--------\n",
      "Train loss = 0.3346\n",
      "Val loss = 0.3579\n",
      "Max = 0.95, Mean = 0.57, Min = 0.23\n",
      "--------Epoch = 50--------\n",
      "Train loss = 0.2960\n",
      "Val loss = 0.3348\n",
      "Max = 1.00, Mean = 0.85, Min = 0.43\n",
      "--------Epoch = 60--------\n",
      "Train loss = 0.2510\n",
      "Val loss = 0.3131\n",
      "Max = 1.00, Mean = 0.98, Min = 0.81\n",
      "--------Epoch = 70--------\n",
      "Train loss = 0.2227\n",
      "Val loss = 0.3047\n",
      "Max = 1.00, Mean = 0.99, Min = 0.95\n",
      "--------Epoch = 80--------\n",
      "Train loss = 0.2049\n",
      "Val loss = 0.3120\n",
      "Max = 1.00, Mean = 1.00, Min = 0.99\n",
      "--------Epoch = 90--------\n",
      "Train loss = 0.1892\n",
      "Val loss = 0.3132\n",
      "Max = 1.00, Mean = 1.00, Min = 1.00\n",
      "--------Epoch = 100--------\n",
      "Train loss = 0.1809\n",
      "Val loss = 0.3287\n",
      "Max = 1.00, Mean = 1.00, Min = 0.99\n"
     ]
    }
   ],
   "source": [
    "# Create model\n",
    "model = models.SelectorMLP(\n",
    "    input_layer='concrete_selector',\n",
    "    k=20,\n",
    "    input_size=input_size,\n",
    "    output_size=output_size,\n",
    "    hidden=[256, 256],\n",
    "    activation='elu').cuda(4)\n",
    "\n",
    "# Train model\n",
    "model.train(\n",
    "    train_set,\n",
    "    val_set,\n",
    "    lr=1e-3,\n",
    "    mbsize=256,\n",
    "    max_nepochs=100,\n",
    "    start_temperature=10.0,\n",
    "    end_temperature=0.01,\n",
    "    loss_fn=nn.CrossEntropyLoss(),\n",
    "    check_every=10)"
   ]
  },
  {
   "cell_type": "code",
   "execution_count": 7,
   "metadata": {},
   "outputs": [
    {
     "data": {
      "image/png": "[encoded data removed]",
      "text/plain": [
       "<Figure size 1152x432 with 2 Axes>"
      ]
     },
     "metadata": {
      "needs_background": "light"
     },
     "output_type": "display_data"
    }
   ],
   "source": [
    "# Verify convergence\n",
    "M = model.input_layer.sample(n_samples=256)\n",
    "values = torch.mean(M, dim=0)\n",
    "sorted_values = torch.sort(values, dim=1, descending=True).values\n",
    "\n",
    "# Plot\n",
    "fig, axarr = plt.subplots(1, 2, figsize=(16, 6))\n",
    "\n",
    "ax = axarr[0]\n",
    "for i in range(model.input_layer.k):\n",
    "    ax.plot(np.arange(input_size), sorted_values[i].cpu().data,\n",
    "            marker='o', alpha=0.5)\n",
    "ax.set_xlim(-0.4, 3)\n",
    "ax.set_xticks(np.arange(4))\n",
    "ax.axvline(0.5, color='black', linestyle='--')\n",
    "ax.set_title('Selector values', fontsize=20)\n",
    "ax.set_xlabel('Selector position (sorted)', fontsize=16)\n",
    "ax.set_ylabel('Selector value', fontsize=16)\n",
    "ax.tick_params('both', labelsize=14)\n",
    "\n",
    "ax = axarr[1]\n",
    "ax.imshow(np.reshape(torch.sum(values, dim=0).cpu().data,\n",
    "                     (28, 28)))\n",
    "ax.set_title('Selected pixels', fontsize=20)\n",
    "ax.set_xticks([])\n",
    "ax.set_yticks([])\n",
    "\n",
    "plt.tight_layout()\n",
    "plt.show()"
   ]
  },
  {
   "cell_type": "code",
   "execution_count": 8,
   "metadata": {},
   "outputs": [
    {
     "name": "stdout",
     "output_type": "stream",
     "text": [
      "Accuracy = 0.898\n"
     ]
    }
   ],
   "source": [
    "# Extract select inds\n",
    "inds = model.get_inds()\n",
    "\n",
    "# Restrict data to selected indices\n",
    "train_set.set_inds(inds)\n",
    "val_set.set_inds(inds)\n",
    "test_set.set_inds(inds)\n",
    "\n",
    "# Train debiased model\n",
    "model = models.MLP(\n",
    "    input_size=len(inds),\n",
    "    output_size=output_size,\n",
    "    hidden=[256, 256],\n",
    "    activation='elu').cuda(4)\n",
    "\n",
    "model.train(\n",
    "    train_set,\n",
    "    val_set,\n",
    "    lr=1e-3,\n",
    "    mbsize=256,\n",
    "    max_nepochs=100,\n",
    "    loss_fn=nn.CrossEntropyLoss(),\n",
    "    verbose=False)\n",
    "\n",
    "# Calculate loss on test set\n",
    "print('Accuracy = {:.3f}'.format(\n",
    "    model.evaluate(test_set, models.utils.Accuracy()).item()))\n",
    "\n",
    "# Reset data\n",
    "train_set.set_inds()\n",
    "val_set.set_inds()\n",
    "test_set.set_inds()"
   ]
  },
  {
   "cell_type": "markdown",
   "metadata": {},
   "source": [
    "# Concrete gates"
   ]
  },
  {
   "cell_type": "code",
   "execution_count": 9,
   "metadata": {
    "scrolled": true
   },
   "outputs": [
    {
     "name": "stdout",
     "output_type": "stream",
     "text": [
      "--------Epoch = 100--------\n",
      "Train loss = 0.3439\n",
      "Val loss = 0.3813\n",
      "Mean dist = 0.05, Max dist = 0.48, Num sel = 7\n",
      "--------Epoch = 200--------\n",
      "Train loss = 0.2921\n",
      "Val loss = 0.3671\n",
      "Mean dist = 0.03, Max dist = 0.50, Num sel = 22\n",
      "--------Epoch = 300--------\n",
      "Train loss = 0.2119\n",
      "Val loss = 0.3811\n",
      "Mean dist = 0.01, Max dist = 0.50, Num sel = 31\n",
      "--------Epoch = 400--------\n",
      "Train loss = 0.1716\n",
      "Val loss = 0.4611\n",
      "Mean dist = 0.01, Max dist = 0.42, Num sel = 29\n",
      "--------Epoch = 500--------\n",
      "Train loss = 0.1514\n",
      "Val loss = 0.5507\n",
      "Mean dist = 0.00, Max dist = 0.45, Num sel = 27\n",
      "--------Epoch = 600--------\n",
      "Train loss = 0.1438\n",
      "Val loss = 0.6365\n",
      "Mean dist = 0.00, Max dist = 0.42, Num sel = 27\n",
      "--------Epoch = 700--------\n",
      "Train loss = 0.1392\n",
      "Val loss = 0.6927\n",
      "Mean dist = 0.00, Max dist = 0.31, Num sel = 26\n",
      "--------Epoch = 800--------\n",
      "Train loss = 0.1437\n",
      "Val loss = 0.7269\n",
      "Mean dist = 0.00, Max dist = 0.11, Num sel = 26\n",
      "--------Epoch = 900--------\n",
      "Train loss = 0.1383\n",
      "Val loss = 0.7236\n",
      "Mean dist = 0.00, Max dist = 0.09, Num sel = 26\n",
      "--------Epoch = 1000--------\n",
      "Train loss = 0.1424\n",
      "Val loss = 0.7014\n",
      "Mean dist = 0.00, Max dist = 0.11, Num sel = 26\n"
     ]
    }
   ],
   "source": [
    "# Create model\n",
    "model = models.SelectorMLP(\n",
    "    input_layer='concrete_gates',\n",
    "    input_size=input_size,\n",
    "    output_size=output_size,\n",
    "    hidden=[256, 256],\n",
    "    activation='elu').cuda(4)\n",
    "\n",
    "# Train model\n",
    "model.train(\n",
    "    train_set,\n",
    "    val_set,\n",
    "    lam=0.005,\n",
    "    lr=1e-3,\n",
    "    mbsize=256,\n",
    "    max_nepochs=1000,\n",
    "    start_temperature=1.0,\n",
    "    end_temperature=0.0001,\n",
    "    loss_fn=nn.CrossEntropyLoss(),\n",
    "    check_every=100)"
   ]
  },
  {
   "cell_type": "code",
   "execution_count": 10,
   "metadata": {},
   "outputs": [
    {
     "data": {
      "image/png": "[encoded data removed]",
      "text/plain": [
       "<Figure size 1152x432 with 2 Axes>"
      ]
     },
     "metadata": {
      "needs_background": "light"
     },
     "output_type": "display_data"
    }
   ],
   "source": [
    "# Verify convergence\n",
    "m = model.input_layer.sample(n_samples=256)\n",
    "values = torch.mean(m, dim=0)\n",
    "sorted_values = torch.sort(values, descending=True).values\n",
    "\n",
    "# Plot\n",
    "fig, axarr = plt.subplots(1, 2, figsize=(16, 6))\n",
    "\n",
    "ax = axarr[0]\n",
    "ax.plot(np.arange(input_size), sorted_values.cpu().data,\n",
    "        marker='o')\n",
    "ind = (sorted_values < 0.5).nonzero()[0].item()\n",
    "ax.axvline(ind - 0.5, color='black', linestyle='--')\n",
    "ax.set_xlim(-0.5, min(input_size, 2 * ind))\n",
    "ax.set_title('Mask values', fontsize=20)\n",
    "ax.set_xlabel('Mask position (sorted by value)', fontsize=16)\n",
    "ax.set_ylabel('Mask value', fontsize=16)\n",
    "ax.tick_params('both', labelsize=14)\n",
    "\n",
    "ax = axarr[1]\n",
    "ax.imshow(np.reshape(values.cpu().data, (28, 28)))\n",
    "ax.set_title('Selected pixels', fontsize=20)\n",
    "ax.set_xticks([])\n",
    "ax.set_yticks([])\n",
    "\n",
    "plt.tight_layout()\n",
    "plt.show()"
   ]
  },
  {
   "cell_type": "code",
   "execution_count": 11,
   "metadata": {},
   "outputs": [
    {
     "name": "stdout",
     "output_type": "stream",
     "text": [
      "Accuracy = 0.939\n"
     ]
    }
   ],
   "source": [
    "# Extract selected inds\n",
    "inds = model.get_inds(threshold=0.5)\n",
    "\n",
    "# Restrict data to selected indices\n",
    "train_set.set_inds(inds)\n",
    "val_set.set_inds(inds)\n",
    "test_set.set_inds(inds)\n",
    "\n",
    "# Train debiased model\n",
    "model = models.MLP(\n",
    "    input_size=len(inds),\n",
    "    output_size=output_size,\n",
    "    hidden=[256, 256],\n",
    "    activation='elu').cuda(4)\n",
    "\n",
    "model.train(\n",
    "    train_set,\n",
    "    val_set,\n",
    "    lr=1e-3,\n",
    "    mbsize=256,\n",
    "    max_nepochs=100,\n",
    "    loss_fn=nn.CrossEntropyLoss(),\n",
    "    verbose=False)\n",
    "\n",
    "# Calculate loss on test set\n",
    "print('Accuracy = {:.3f}'.format(\n",
    "    model.evaluate(test_set, models.utils.Accuracy()).item()))\n",
    "\n",
    "# Reset data\n",
    "train_set.set_inds()\n",
    "val_set.set_inds()\n",
    "test_set.set_inds()"
   ]
  },
  {
   "cell_type": "code",
   "execution_count": null,
   "metadata": {},
   "outputs": [],
   "source": []
  }
 ],
 "metadata": {
  "kernelspec": {
   "display_name": "Python 3",
   "language": "python",
   "name": "python3"
  },
  "language_info": {
   "codemirror_mode": {
    "name": "ipython",
    "version": 3
   },
   "file_extension": ".py",
   "mimetype": "text/x-python",
   "name": "python",
   "nbconvert_exporter": "python",
   "pygments_lexer": "ipython3",
   "version": "3.6.8"
  }
 },
 "nbformat": 4,
 "nbformat_minor": 2
}
